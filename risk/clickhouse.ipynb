{
 "cells": [
  {
   "cell_type": "markdown",
   "metadata": {},
   "source": [
    "# Docker setup\n",
    "\n",
    "docker run -d -p 8123:8123 -p 9000:9000 --name some-clickhouse-server --ulimit nofile=262144:262144 yandex/clickhouse-server\n",
    "\n",
    "alias clickhouse-client='docker run -i --rm --link some-clickhouse-server:clickhouse-server yandex/clickhouse-client \n",
    "--host clickhouse-server'\n",
    "\n",
    "echo \"show tables\" | clickhouse-client \n",
    "\n",
    "cat ./analytics_2009-01-01.csv | clickhouse-client --query=\"INSERT INTO analytics FORMAT CSVWithNames\"\n",
    "\n",
    "### To run client interactively\n",
    "docker run -it --rm --link some-clickhouse-server:clickhouse-server yandex/clickhouse-client --host clickhouse-server\n",
    "\n",
    "### Sample query for client\n",
    "SELECT date, product, mac, instrument, analytic, value FROM analytics WHERE analytic='STAT1' AND product='PROD1' AND mac='MAC1' AND instrument='INST1'\n",
    "\n",
    "### GUI\n",
    "http://ui.tabix.io/#!/sql"
   ]
  },
  {
   "cell_type": "markdown",
   "metadata": {},
   "source": [
    "# Summary results on i5 macbook with 8GB RAM\n",
    "\n",
    "\n",
    "73.9 million rows with a MergeTree engine and low cardinality strings\n",
    "\n",
    "Loading from CSV:\n",
    "approx 4 min.\n",
    "\n",
    "Great compression:\n",
    "280MB total table size - with roughly 100Mb mem usage. Versus c. 5Gb in pandas\n",
    "\n",
    "Queries from notebook for specific analytic, prod, mac, instrument combo return in <2 seconds\n",
    "Same queries in client and tabix take roughly 4 seconds\n",
    "\n",
    "## Improvements\n",
    "Possibly could improve with better primary key definition in the table.\n",
    "Issues with null/empty string\n",
    "\n",
    "\n"
   ]
  },
  {
   "cell_type": "code",
   "execution_count": 1,
   "metadata": {
    "ExecuteTime": {
     "end_time": "2018-12-30T20:09:01.752136Z",
     "start_time": "2018-12-30T20:09:01.241693Z"
    }
   },
   "outputs": [],
   "source": [
    "import pandas as pd\n",
    "import numpy as np\n",
    "import itertools\n",
    "from datetime import datetime as dt\n",
    "import humanize"
   ]
  },
  {
   "cell_type": "code",
   "execution_count": 2,
   "metadata": {
    "ExecuteTime": {
     "end_time": "2018-12-30T20:09:03.482048Z",
     "start_time": "2018-12-30T20:09:03.474029Z"
    }
   },
   "outputs": [],
   "source": [
    "def get_test_data(start='20100101', end='20150101', cardinality=2):\n",
    "    dates = pd.date_range(start=start, end=end, freq='b')\n",
    "    analytics = ['STAT' + str(i) for i in range(cardinality)]\n",
    "    instruments = ['INST' + str(i) for i in range(cardinality)] + [None]\n",
    "    products = ['PROD' + str(i) for i in range(cardinality)] + [None]\n",
    "    macs = ['MAC' + str(i) for i in range(cardinality)] + [None]\n",
    "    columns = [\"date\", \"product\", \"mac\", \"instrument\", \"analytic\", \"value\"]\n",
    "    rows = list(itertools.product(\n",
    "        dates, products, macs, instruments, analytics))\n",
    "    data = pd.DataFrame(rows, columns=columns[:-1])\n",
    "    data['value'] = np.random.random(len(data)) * 10000\n",
    "    return data"
   ]
  },
  {
   "cell_type": "code",
   "execution_count": 47,
   "metadata": {
    "ExecuteTime": {
     "end_time": "2018-12-30T21:01:43.516749Z",
     "start_time": "2018-12-30T20:47:18.073758Z"
    }
   },
   "outputs": [
    {
     "name": "stdout",
     "output_type": "stream",
     "text": [
      "(Timestamp('2009-01-01 00:00:00'), Timestamp('2009-12-31 00:00:00'))\n",
      "12.3 million rows\n",
      "(Timestamp('2010-01-01 00:00:00'), Timestamp('2010-12-31 00:00:00'))\n",
      "12.3 million rows\n",
      "(Timestamp('2011-01-01 00:00:00'), Timestamp('2011-12-31 00:00:00'))\n",
      "12.3 million rows\n",
      "(Timestamp('2012-01-01 00:00:00'), Timestamp('2012-12-31 00:00:00'))\n",
      "12.3 million rows\n",
      "(Timestamp('2013-01-01 00:00:00'), Timestamp('2013-12-31 00:00:00'))\n",
      "12.3 million rows\n",
      "(Timestamp('2014-01-01 00:00:00'), Timestamp('2014-12-31 00:00:00'))\n",
      "12.3 million rows\n"
     ]
    }
   ],
   "source": [
    "years = pd.date_range(start='20100101', end='20150101', freq='YS')\n",
    "for y in years:\n",
    "    start = y - pd.DateOffset(years=1)\n",
    "    end = y - pd.DateOffset(days=1)\n",
    "    print((start, end))\n",
    "    analytics_df = get_test_data(start, end, cardinality=14)\n",
    "    print(humanize.intword(len(analytics_df)) + ' rows')\n",
    "    analytics_df.to_csv('./analytics_{:%Y-%m-%d}.csv'.format(start),\n",
    "                        index=False, date_format='%Y-%m-%d %H:%M:%S')"
   ]
  },
  {
   "cell_type": "code",
   "execution_count": 91,
   "metadata": {
    "ExecuteTime": {
     "end_time": "2018-12-31T15:33:31.004964Z",
     "start_time": "2018-12-31T15:33:30.907612Z"
    }
   },
   "outputs": [
    {
     "name": "stdout",
     "output_type": "stream",
     "text": [
      "Index         80 Bytes\n",
      "date           98.7 MB\n",
      "product        98.7 MB\n",
      "mac            98.7 MB\n",
      "instrument     98.7 MB\n",
      "analytic       98.7 MB\n",
      "value          98.7 MB\n",
      "dtype: object\n",
      "date          datetime64[ns]\n",
      "product               object\n",
      "mac                   object\n",
      "instrument            object\n",
      "analytic              object\n",
      "value                float64\n",
      "dtype: object\n",
      "<class 'pandas.core.frame.DataFrame'>\n",
      "RangeIndex: 12332250 entries, 0 to 12332249\n",
      "Data columns (total 6 columns):\n",
      "date          datetime64[ns]\n",
      "product       object\n",
      "mac           object\n",
      "instrument    object\n",
      "analytic      object\n",
      "value         float64\n",
      "dtypes: datetime64[ns](1), float64(1), object(4)\n",
      "memory usage: 564.5+ MB\n",
      "None\n"
     ]
    }
   ],
   "source": [
    "print(analytics_df.memory_usage().map(humanize.naturalsize))\n",
    "print(analytics_df.dtypes)\n",
    "\n",
    "print(analytics_df.info())"
   ]
  },
  {
   "cell_type": "code",
   "execution_count": null,
   "metadata": {
    "ExecuteTime": {
     "start_time": "2018-12-30T12:14:16.688Z"
    }
   },
   "outputs": [],
   "source": [
    "analytics_df.to_csv('./analytics.csv', index=False,\n",
    "                    date_format='%Y-%m-%d %H:%M:%S')"
   ]
  },
  {
   "cell_type": "code",
   "execution_count": 64,
   "metadata": {
    "ExecuteTime": {
     "end_time": "2018-12-31T14:47:50.051722Z",
     "start_time": "2018-12-31T14:47:50.038190Z"
    }
   },
   "outputs": [],
   "source": [
    "from clickhouse_driver import Client\n",
    "client = Client('localhost')"
   ]
  },
  {
   "cell_type": "code",
   "execution_count": 77,
   "metadata": {
    "ExecuteTime": {
     "end_time": "2018-12-31T15:02:45.435665Z",
     "start_time": "2018-12-31T15:02:45.391700Z"
    }
   },
   "outputs": [
    {
     "name": "stdout",
     "output_type": "stream",
     "text": [
      "[]\n"
     ]
    },
    {
     "data": {
      "text/plain": [
       "[]"
      ]
     },
     "execution_count": 77,
     "metadata": {},
     "output_type": "execute_result"
    }
   ],
   "source": [
    "client.execute('SET allow_experimental_low_cardinality_type = 1')\n",
    "print(client.execute('SHOW TABLES'))\n",
    "client.execute('DROP TABLE IF EXISTS analytics')\n",
    "client.execute('''CREATE TABLE analytics (date DateTime,\n",
    "                                          product LowCardinality(Nullable(String)),\n",
    "                                          mac LowCardinality(Nullable(String)),\n",
    "                                          instrument LowCardinality(Nullable(String)),\n",
    "                                          analytic LowCardinality(Nullable(String)),\n",
    "                                          value Float32\n",
    "                                         ) ENGINE MergeTree()\n",
    "                                         PARTITION BY toYYYYMM(date)\n",
    "                                         ORDER BY date''')"
   ]
  },
  {
   "cell_type": "code",
   "execution_count": null,
   "metadata": {},
   "outputs": [],
   "source": [
    "# now load with ./load.sh"
   ]
  },
  {
   "cell_type": "code",
   "execution_count": 90,
   "metadata": {
    "ExecuteTime": {
     "end_time": "2018-12-31T15:32:52.991409Z",
     "start_time": "2018-12-31T15:32:52.837445Z"
    }
   },
   "outputs": [
    {
     "name": "stdout",
     "output_type": "stream",
     "text": [
      "73.9 million rows\n"
     ]
    }
   ],
   "source": [
    "count_rows = client.execute('SELECT count() FROM analytics')[0][0]\n",
    "print(humanize.intword(count_rows) + ' rows')"
   ]
  },
  {
   "cell_type": "code",
   "execution_count": 94,
   "metadata": {
    "ExecuteTime": {
     "end_time": "2018-12-31T16:09:21.447435Z",
     "start_time": "2018-12-31T16:09:21.440590Z"
    },
    "scrolled": false
   },
   "outputs": [],
   "source": [
    "def find_analytics(product, mac, instrument, analytic):\n",
    "    res = client.execute(\"\"\"SELECT date, product, mac, instrument, analytic, value\n",
    "                            FROM analytics\n",
    "                            WHERE analytic=%(analytic)s\n",
    "                            AND product=%(product)s\n",
    "                            AND mac=%(mac)s\n",
    "                            AND instrument=%(instrument)s\n",
    "                            \"\"\",\n",
    "                         {'product': product,\n",
    "                          'mac': mac,\n",
    "                          'instrument': instrument,\n",
    "                          'analytic': analytic},\n",
    "                         columnar=False)\n",
    "    return res"
   ]
  },
  {
   "cell_type": "code",
   "execution_count": 96,
   "metadata": {
    "ExecuteTime": {
     "end_time": "2018-12-31T16:09:29.548698Z",
     "start_time": "2018-12-31T16:09:27.909196Z"
    }
   },
   "outputs": [
    {
     "data": {
      "text/plain": [
       "6"
      ]
     },
     "execution_count": 96,
     "metadata": {},
     "output_type": "execute_result"
    }
   ],
   "source": [
    "res = find_analytics('PROD1', 'MAC10', 'INST2', 'STAT3')\n",
    "len(res[0])"
   ]
  },
  {
   "cell_type": "code",
   "execution_count": 85,
   "metadata": {
    "ExecuteTime": {
     "end_time": "2018-12-31T15:09:35.487499Z",
     "start_time": "2018-12-31T15:09:35.465713Z"
    }
   },
   "outputs": [],
   "source": [
    "def pandas_query_at_level_no_index(analytic, level, product=None, mac=None, instrument=None, req_date=None):\n",
    "    mask = analytics_df.date.notnull()\n",
    "    filter_dict = dict(product=product, mac=mac,\n",
    "                       instrument=instrument, analytic=analytic)\n",
    "    for k, v in filter_dict.items():\n",
    "        # if k == level:\n",
    "        #    mask = mask & analytics_df[k].notnull()\n",
    "        if v is None:\n",
    "            mask = mask & analytics_df[k].isnull()\n",
    "        else:\n",
    "            mask = mask & (analytics_df[k] == v)\n",
    "    filtered = analytics_df[mask]\n",
    "    return filtered\n",
    "    # return filtered.pivot(index='date', columns=level, values='value')"
   ]
  },
  {
   "cell_type": "code",
   "execution_count": 86,
   "metadata": {
    "ExecuteTime": {
     "end_time": "2018-12-31T15:09:41.745139Z",
     "start_time": "2018-12-31T15:09:36.141361Z"
    }
   },
   "outputs": [],
   "source": [
    "res2 = pandas_query_at_level_no_index(\n",
    "    'STAT1', 'instrument', product='PROD1', mac='MAC1', instrument='INST1')"
   ]
  },
  {
   "cell_type": "code",
   "execution_count": 34,
   "metadata": {
    "ExecuteTime": {
     "end_time": "2018-12-30T12:07:44.693660Z",
     "start_time": "2018-12-30T12:07:44.687932Z"
    }
   },
   "outputs": [
    {
     "data": {
      "text/plain": [
       "1305"
      ]
     },
     "execution_count": 34,
     "metadata": {},
     "output_type": "execute_result"
    }
   ],
   "source": [
    "len(res2)"
   ]
  }
 ],
 "metadata": {
  "kernelspec": {
   "display_name": "Python 3",
   "language": "python",
   "name": "python3"
  },
  "language_info": {
   "codemirror_mode": {
    "name": "ipython",
    "version": 3
   },
   "file_extension": ".py",
   "mimetype": "text/x-python",
   "name": "python",
   "nbconvert_exporter": "python",
   "pygments_lexer": "ipython3",
   "version": "3.6.7"
  }
 },
 "nbformat": 4,
 "nbformat_minor": 2
}
